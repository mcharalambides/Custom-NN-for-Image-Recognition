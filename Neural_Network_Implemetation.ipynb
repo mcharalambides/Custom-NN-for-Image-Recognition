{
 "cells": [
  {
   "cell_type": "code",
   "execution_count": null,
   "id": "f59c0aee",
   "metadata": {
    "pycharm": {
     "name": "#%%\n"
    }
   },
   "outputs": [],
   "source": [
    "import numpy as np\n",
    "import pandas as pd\n",
    "from matplotlib import pyplot as plt"
   ]
  },
  {
   "cell_type": "code",
   "execution_count": null,
   "id": "f49b8888",
   "metadata": {
    "pycharm": {
     "name": "#%%\n"
    }
   },
   "outputs": [],
   "source": [
    "data = pd.read_csv('NN_data/train.csv')\n",
    "print(data.head())"
   ]
  },
  {
   "cell_type": "code",
   "execution_count": null,
   "id": "3b7a2d01",
   "metadata": {
    "pycharm": {
     "name": "#%%\n"
    }
   },
   "outputs": [],
   "source": [
    "data = np.array(data)\n",
    "print(data)"
   ]
  },
  {
   "cell_type": "code",
   "execution_count": null,
   "id": "619d6f9e",
   "metadata": {
    "pycharm": {
     "name": "#%%\n"
    }
   },
   "outputs": [],
   "source": [
    "data = np.array(data)\n",
    "m, n = data.shape\n",
    "np.random.shuffle(data) # shuffle before splitting into dev and training sets\n",
    "\n",
    "data_dev = data[0:1000].T\n",
    "Y_dev = data_dev[0]\n",
    "X_dev = data_dev[1:n]\n",
    "X_dev = X_dev / 255.\n",
    "\n",
    "data_train = data[1000:m].T\n",
    "Y_train = data_train[0]\n",
    "X_train = data_train[1:n]\n",
    "X_train = X_train / 255.\n",
    "_,m_train = X_train.shape"
   ]
  },
  {
   "cell_type": "code",
   "execution_count": null,
   "id": "6df20ebc",
   "metadata": {
    "pycharm": {
     "name": "#%%\n"
    }
   },
   "outputs": [],
   "source": [
    "Y_train"
   ]
  },
  {
   "cell_type": "code",
   "execution_count": null,
   "id": "c9e86b78",
   "metadata": {
    "pycharm": {
     "name": "#%%\n"
    }
   },
   "outputs": [],
   "source": [
    "def init_params():\n",
    "    W1 = np.random.rand(10, 784) - 0.5\n",
    "    b1 = np.random.rand(10, 1) - 0.5\n",
    "    W2 = np.random.rand(10, 10) - 0.5\n",
    "    b2 = np.random.rand(10, 1) - 0.5\n",
    "    return W1, b1, W2, b2\n",
    "\n",
    "def ReLU(Z):\n",
    "    return np.maximum(Z, 0)\n",
    "\n",
    "def softmax(Z):\n",
    "    A = np.exp(Z) / sum(np.exp(Z))\n",
    "    return A\n",
    "    \n",
    "def forward_prop(W1, b1, W2, b2, X):\n",
    "    Z1 = W1.dot(X) + b1\n",
    "    A1 = ReLU(Z1)\n",
    "    Z2 = W2.dot(A1) + b2\n",
    "    A2 = softmax(Z2)\n",
    "    return Z1, A1, Z2, A2\n",
    "\n",
    "def ReLU_deriv(Z):\n",
    "    return Z > 0\n",
    "\n",
    "def one_hot(Y):\n",
    "    one_hot_Y = np.zeros((Y.size, Y.max() + 1))\n",
    "    one_hot_Y[np.arange(Y.size), Y] = 1\n",
    "    one_hot_Y = one_hot_Y.T\n",
    "    return one_hot_Y\n",
    "\n",
    "def backward_prop(Z1, A1, Z2, A2, W1, W2, X, Y):\n",
    "    one_hot_Y = one_hot(Y)\n",
    "    dZ2 = A2 - one_hot_Y\n",
    "    dW2 = 1 / m * dZ2.dot(A1.T)\n",
    "    db2 = 1 / m * np.sum(dZ2)\n",
    "    dZ1 = W2.T.dot(dZ2) * ReLU_deriv(Z1)\n",
    "    dW1 = 1 / m * dZ1.dot(X.T)\n",
    "    db1 = 1 / m * np.sum(dZ1)\n",
    "    return dW1, db1, dW2, db2\n",
    "\n",
    "def update_params(W1, b1, W2, b2, dW1, db1, dW2, db2, alpha):\n",
    "    W1 = W1 - alpha * dW1\n",
    "    b1 = b1 - alpha * db1    \n",
    "    W2 = W2 - alpha * dW2  \n",
    "    b2 = b2 - alpha * db2    \n",
    "    return W1, b1, W2, b2\n",
    "def get_predictions(A2):\n",
    "    return np.argmax(A2, 0)\n",
    "\n",
    "def get_accuracy(predictions, Y):\n",
    "    print(predictions, Y)\n",
    "    return np.sum(predictions == Y) / Y.size\n",
    "\n",
    "def gradient_descent(X, Y, alpha, iterations):\n",
    "    W1, b1, W2, b2 = init_params()\n",
    "    for i in range(iterations):\n",
    "        Z1, A1, Z2, A2 = forward_prop(W1, b1, W2, b2, X)\n",
    "        dW1, db1, dW2, db2 = backward_prop(Z1, A1, Z2, A2, W1, W2, X, Y)\n",
    "        W1, b1, W2, b2 = update_params(W1, b1, W2, b2, dW1, db1, dW2, db2, alpha)\n",
    "        if i % 10 == 0:\n",
    "            print(\"Iteration: \", i)\n",
    "            predictions = get_predictions(A2)\n",
    "            print(get_accuracy(predictions, Y))\n",
    "    return W1, b1, W2, b2"
   ]
  },
  {
   "cell_type": "code",
   "execution_count": null,
   "id": "3f0f1fa0",
   "metadata": {
    "pycharm": {
     "name": "#%%\n"
    }
   },
   "outputs": [],
   "source": [
    "W1, b1, W2, b2 = gradient_descent(X_train, Y_train, 0.10, 5000)"
   ]
  },
  {
   "cell_type": "code",
   "execution_count": 46,
   "id": "cbe23036",
   "metadata": {
    "pycharm": {
     "name": "#%%\n"
    }
   },
   "outputs": [],
   "source": [
    "def make_predictions(X, W1, b1, W2, b2):\n",
    "    _, _, _, A2 = forward_prop(W1, b1, W2, b2, X)\n",
    "    predictions = get_predictions(A2)\n",
    "    return predictions\n",
    "\n",
    "def test_prediction(index, W1, b1, W2, b2):\n",
    "    current_image = X_train[:, index, None]\n",
    "    prediction = make_predictions(X_train[:, index, None], W1, b1, W2, b2)\n",
    "    label = Y_train[index]\n",
    "    print(\"Prediction: \", prediction)\n",
    "    print(\"Label: \", label)\n",
    "    \n",
    "    current_image = current_image.reshape((28, 28)) * 255\n",
    "    plt.gray()\n",
    "    plt.imshow(current_image, interpolation='nearest')\n",
    "    plt.show()"
   ]
  },
  {
   "cell_type": "code",
   "execution_count": 47,
   "id": "612cfd86",
   "metadata": {
    "pycharm": {
     "name": "#%%\n"
    }
   },
   "outputs": [
    {
     "name": "stdout",
     "output_type": "stream",
     "text": [
      "Prediction:  [3]\n",
      "Label:  3\n"
     ]
    },
    {
     "data": {
      "image/png": "[encoded data removed]",
      "text/plain": [
       "<Figure size 432x288 with 1 Axes>"
      ]
     },
     "metadata": {
      "needs_background": "light"
     },
     "output_type": "display_data"
    }
   ],
   "source": [
    "test_prediction(275, W1, b1, W2, b2)"
   ]
  },
  {
   "cell_type": "code",
   "execution_count": 48,
   "id": "6325ccf4",
   "metadata": {
    "pycharm": {
     "name": "#%%\n"
    }
   },
   "outputs": [
    {
     "name": "stdout",
     "output_type": "stream",
     "text": [
      "[2 8 6 7 6 1 2 3 0 1 2 3 2 2 6 2 5 9 6 7 9 4 9 4 6 8 7 2 0 7 9 7 8 9 3 2 5\n",
      " 4 0 1 9 1 6 8 4 1 0 2 1 6 3 1 4 4 4 4 9 1 8 7 7 5 8 1 3 0 7 5 4 2 9 6 9 7\n",
      " 7 4 3 4 5 6 4 2 7 0 8 4 3 9 0 4 2 0 3 3 3 6 0 6 1 0 7 9 7 7 6 3 9 0 3 3 9\n",
      " 8 4 0 2 9 4 1 5 1 7 3 2 9 3 4 9 4 8 4 9 7 8 0 6 3 6 1 8 5 9 7 6 6 1 1 8 1\n",
      " 6 7 2 6 1 9 2 6 3 6 4 4 8 9 6 1 2 1 0 5 5 7 3 3 1 1 5 8 6 7 7 0 9 0 4 4 2\n",
      " 4 1 9 6 0 9 1 0 3 3 2 0 9 2 3 1 0 3 0 7 1 0 8 2 0 0 8 5 5 7 3 9 5 4 8 4 7\n",
      " 2 7 0 3 1 6 3 6 1 7 8 4 0 0 8 0 5 6 8 5 9 9 9 7 8 0 4 5 9 0 2 7 7 9 2 7 9\n",
      " 7 0 0 0 4 4 3 0 1 1 2 7 2 8 9 3 0 1 6 5 2 7 4 6 9 5 4 3 0 2 8 2 2 1 7 0 7\n",
      " 0 3 3 1 4 6 3 4 0 9 8 1 4 3 4 1 3 3 0 0 3 1 2 2 3 3 1 1 4 3 4 4 7 6 2 5 9\n",
      " 6 5 9 6 5 6 3 4 0 9 3 4 9 6 3 0 8 6 1 4 2 3 0 1 6 4 1 1 6 0 1 4 0 4 4 1 3\n",
      " 6 7 1 7 8 1 3 0 3 3 2 9 6 0 9 9 9 1 4 5 2 6 3 6 6 6 9 5 3 2 9 4 7 5 5 7 9\n",
      " 9 2 9 8 1 7 8 7 9 7 0 0 9 8 3 9 0 7 2 7 2 6 4 8 4 2 8 5 9 4 6 2 2 5 3 2 5\n",
      " 2 3 4 7 3 9 0 8 1 9 7 3 6 0 1 1 1 4 3 0 7 7 1 6 7 8 8 6 4 6 0 1 4 8 0 9 8\n",
      " 2 3 3 7 6 9 1 0 8 0 6 6 9 8 8 7 1 7 6 2 2 2 7 7 1 1 0 8 6 1 7 1 0 9 1 2 6\n",
      " 5 2 6 1 6 3 4 2 3 2 8 9 6 1 0 1 3 3 9 8 3 6 1 6 0 3 5 4 9 1 4 8 0 2 0 7 9\n",
      " 4 1 8 9 2 5 0 6 9 2 8 7 2 7 5 7 5 5 9 6 3 0 1 9 2 5 9 5 8 4 7 6 4 9 3 8 5\n",
      " 8 6 3 1 2 9 0 9 3 2 4 5 4 7 3 1 0 7 6 1 7 4 4 0 4 8 7 0 0 8 2 1 5 1 4 0 5\n",
      " 2 6 4 4 6 7 6 7 4 2 5 0 3 3 3 0 5 9 4 2 5 4 3 3 1 2 2 0 2 3 5 8 9 9 6 0 0\n",
      " 0 4 5 2 9 1 2 7 7 6 9 3 5 7 2 1 9 9 9 6 3 7 8 7 6 3 3 3 8 3 5 9 9 7 4 8 8\n",
      " 5 2 9 8 5 0 4 7 7 7 1 2 0 2 0 0 1 0 7 6 4 7 7 2 5 6 8 3 8 9 7 5 1 7 0 6 8\n",
      " 0 9 9 5 5 2 1 8 6 9 8 4 4 8 3 3 9 7 3 3 8 5 3 6 9 7 8 0 6 4 7 3 7 1 7 2 6\n",
      " 3 2 9 7 7 0 8 0 1 8 7 1 2 1 5 8 6 5 6 5 0 6 7 2 0 7 7 7 7 9 3 1 2 7 5 4 3\n",
      " 7 4 8 3 7 8 5 3 2 0 4 3 7 6 3 3 7 3 2 5 7 6 8 3 8 3 5 9 7 8 0 8 3 3 2 4 6\n",
      " 7 8 8 7 3 9 9 7 4 1 7 7 9 7 0 8 3 0 5 6 3 4 5 2 7 8 2 3 9 3 0 3 4 1 1 8 7\n",
      " 6 4 0 5 8 8 8 1 5 5 3 8 0 6 4 4 0 6 5 8 2 0 6 2 3 1 7 0 4 1 4 0 5 6 5 3 7\n",
      " 1 8 3 8 6 6 6 5 1 9 2 5 4 6 5 4 9 9 4 0 7 8 8 6 3 1 4 2 8 1 1 7 8 5 3 7 5\n",
      " 6 2 9 6 6 9 6 4 1 2 8 4 8 0 9 9 1 0 6 0 8 3 0 1 9 4 9 3 4 7 3 5 6 4 8 2 8\n",
      " 8] [2 7 6 7 6 1 2 3 0 1 2 3 2 2 4 2 5 9 6 7 5 4 9 4 6 8 8 2 9 7 9 7 8 9 8 2 5\n",
      " 4 0 1 9 1 6 8 4 1 0 1 1 6 3 1 4 4 4 4 9 1 8 7 7 5 8 1 3 0 7 5 4 2 9 2 9 7\n",
      " 7 4 3 9 5 6 4 2 7 0 8 4 3 9 0 4 2 0 3 3 3 6 0 6 1 0 9 9 7 7 6 3 9 0 3 3 9\n",
      " 8 4 0 3 9 4 1 5 1 7 3 2 9 3 4 9 4 8 4 4 7 8 0 6 3 6 1 8 7 9 7 6 6 1 1 8 1\n",
      " 6 7 2 6 1 9 2 6 5 6 4 2 8 9 6 1 2 1 0 3 5 7 3 3 1 1 5 8 6 7 7 0 9 0 4 4 2\n",
      " 4 1 9 6 0 9 1 0 3 3 2 0 9 2 3 1 0 5 0 7 1 0 8 2 0 0 8 5 5 7 3 9 5 4 8 4 7\n",
      " 2 7 0 3 1 6 3 6 1 7 8 4 0 0 2 0 5 6 8 5 8 9 9 7 5 0 7 5 9 0 2 7 7 9 2 7 3\n",
      " 7 0 0 0 4 4 3 0 1 1 2 7 2 8 4 8 0 1 6 5 2 7 6 6 9 5 4 3 0 2 8 2 2 1 7 0 7\n",
      " 0 3 5 1 4 6 3 4 0 4 2 1 5 3 4 1 3 3 0 0 3 1 2 2 3 3 1 1 4 3 4 4 7 6 2 5 9\n",
      " 6 5 9 6 5 6 3 4 0 9 3 4 9 6 3 0 8 6 1 4 2 3 0 1 6 9 1 1 6 0 1 4 0 4 4 1 3\n",
      " 6 7 1 7 8 1 3 0 3 3 2 9 6 0 9 9 9 1 5 5 2 6 3 6 6 6 9 5 5 2 4 4 3 5 5 7 9\n",
      " 9 2 9 8 1 7 8 7 9 7 0 0 9 3 3 9 0 7 2 9 2 6 4 8 4 2 8 5 9 4 6 2 2 5 3 2 1\n",
      " 2 3 4 7 3 9 0 8 1 9 7 3 6 0 1 1 1 4 3 0 7 7 1 6 7 8 8 6 4 6 0 1 4 8 6 9 8\n",
      " 2 3 3 7 6 9 1 0 8 0 6 6 9 8 8 7 1 7 6 2 2 2 7 7 1 1 0 8 6 1 7 1 0 7 1 2 6\n",
      " 5 2 6 1 6 3 4 2 3 2 8 9 6 1 0 1 3 3 9 8 3 6 1 6 0 3 5 4 7 1 4 8 0 2 8 7 9\n",
      " 4 1 8 9 2 5 0 6 9 7 8 7 2 7 5 7 5 5 9 6 3 0 1 9 2 7 9 5 8 4 7 6 4 9 3 8 5\n",
      " 8 6 3 1 2 9 0 9 3 2 4 5 4 7 3 1 0 7 5 1 7 4 4 0 4 8 7 0 0 8 2 1 5 1 9 0 5\n",
      " 2 6 2 4 6 7 6 7 4 2 5 0 3 3 3 0 5 9 2 2 5 4 3 3 1 2 2 0 2 3 5 8 9 9 6 0 0\n",
      " 0 4 5 2 9 8 2 7 7 6 9 3 5 7 2 1 9 9 9 6 3 7 8 7 6 3 3 3 6 3 3 9 9 7 8 8 4\n",
      " 3 2 9 8 5 0 4 7 7 7 1 3 0 2 0 0 1 0 7 6 9 7 8 2 5 6 8 3 8 9 7 5 1 7 0 6 8\n",
      " 0 9 7 5 5 7 1 8 6 8 2 4 4 8 3 7 9 7 3 3 8 5 3 0 9 7 8 0 6 4 7 3 7 1 7 2 6\n",
      " 3 2 9 7 7 0 8 9 1 8 7 1 2 1 5 8 6 5 6 5 0 6 7 4 0 7 7 7 7 9 3 2 2 7 5 4 3\n",
      " 7 4 8 3 7 8 5 3 3 0 4 3 7 6 3 3 7 3 1 5 7 6 8 3 8 5 5 9 7 8 2 6 3 3 2 4 6\n",
      " 7 8 8 7 3 9 9 7 7 1 7 7 9 7 0 8 3 6 5 6 3 4 6 2 7 8 2 3 9 3 0 3 4 1 1 3 7\n",
      " 6 4 0 5 8 8 8 1 3 5 3 8 0 6 4 4 0 6 5 8 4 0 6 2 3 1 7 0 4 1 4 0 5 6 9 3 7\n",
      " 1 8 3 8 6 0 6 5 1 9 2 5 4 6 5 4 9 9 4 0 7 8 8 2 3 1 4 2 8 1 1 7 8 5 3 7 5\n",
      " 6 2 9 6 6 9 6 4 1 2 8 4 8 6 9 9 1 0 6 5 8 3 0 1 9 4 9 3 4 7 3 5 0 4 8 2 8\n",
      " 8]\n"
     ]
    },
    {
     "data": {
      "text/plain": [
       "0.918"
      ]
     },
     "execution_count": 48,
     "metadata": {},
     "output_type": "execute_result"
    }
   ],
   "source": [
    "dev_predictions = make_predictions(X_dev, W1, b1, W2, b2)\n",
    "get_accuracy(dev_predictions, Y_dev)"
   ]
  },
  {
   "cell_type": "code",
   "execution_count": 49,
   "id": "4cc8cf28",
   "metadata": {
    "pycharm": {
     "name": "#%%\n"
    }
   },
   "outputs": [
    {
     "name": "stdout",
     "output_type": "stream",
     "text": [
      "[2, 15, 21, 27, 29, 35, 48, 72, 78, 101, 115, 131, 140, 157, 160, 168, 203, 237, 243, 247, 249, 259, 274, 275, 282, 299, 306, 307, 309, 359, 389, 399, 401, 403, 421, 427, 444, 479, 515, 547, 553, 565, 581, 611, 627, 632, 648, 672, 695, 697, 701, 703, 704, 715, 724, 726, 743, 746, 750, 751, 756, 764, 785, 801, 809, 823, 833, 840, 845, 846, 860, 869, 874, 887, 897, 909, 923, 931, 949, 976, 982, 995]\n"
     ]
    }
   ],
   "source": [
    "missmatches = []\n",
    "for i in range(0,len(dev_predictions)):\n",
    "    if dev_predictions[i] != Y_dev[i]:\n",
    "        missmatches.append(i+1)\n",
    "print(missmatches)"
   ]
  },
  {
   "cell_type": "code",
   "execution_count": 63,
   "id": "868fead6",
   "metadata": {
    "pycharm": {
     "name": "#%%\n"
    }
   },
   "outputs": [
    {
     "name": "stdout",
     "output_type": "stream",
     "text": [
      "Prediction:  [3]\n",
      "Label:  3\n"
     ]
    },
    {
     "data": {
      "image/png": "[encoded data removed]",
      "text/plain": [
       "<Figure size 432x288 with 1 Axes>"
      ]
     },
     "metadata": {
      "needs_background": "light"
     },
     "output_type": "display_data"
    }
   ],
   "source": [
    "test_prediction(553, W1, b1, W2, b2)"
   ]
  },
  {
   "cell_type": "code",
   "execution_count": null,
   "id": "67b11640",
   "metadata": {
    "pycharm": {
     "name": "#%%\n"
    }
   },
   "outputs": [],
   "source": []
  }
 ],
 "metadata": {
  "kernelspec": {
   "display_name": "Python 3 (ipykernel)",
   "language": "python",
   "name": "python3"
  },
  "language_info": {
   "codemirror_mode": {
    "name": "ipython",
    "version": 3
   },
   "file_extension": ".py",
   "mimetype": "text/x-python",
   "name": "python",
   "nbconvert_exporter": "python",
   "pygments_lexer": "ipython3",
   "version": "3.9.0"
  }
 },
 "nbformat": 4,
 "nbformat_minor": 5
}